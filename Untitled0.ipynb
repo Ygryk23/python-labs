{
  "nbformat": 4,
  "nbformat_minor": 0,
  "metadata": {
    "colab": {
      "provenance": [],
      "authorship_tag": "ABX9TyNb/eWCuZ5BkzNAVPIJqINW",
      "include_colab_link": true
    },
    "kernelspec": {
      "name": "python3",
      "display_name": "Python 3"
    },
    "language_info": {
      "name": "python"
    }
  },
  "cells": [
    {
      "cell_type": "markdown",
      "metadata": {
        "id": "view-in-github",
        "colab_type": "text"
      },
      "source": [
        "<a href=\"https://colab.research.google.com/github/Ygryk23/python-labs/blob/main/Untitled0.ipynb\" target=\"_parent\"><img src=\"https://colab.research.google.com/assets/colab-badge.svg\" alt=\"Open In Colab\"/></a>"
      ]
    },
    {
      "cell_type": "code",
      "execution_count": null,
      "metadata": {
        "colab": {
          "base_uri": "https://localhost:8080/"
        },
        "id": "FY4lbzv657kS",
        "outputId": "82259b8b-5564-477c-de1f-7ff524997e9b"
      },
      "outputs": [
        {
          "output_type": "execute_result",
          "data": {
            "text/plain": [
              "True"
            ]
          },
          "metadata": {},
          "execution_count": 4
        }
      ],
      "source": [
        "boolen_var_1 = True\n",
        "boolen_var_2 = False\n",
        "boolen_var_1 or boolen_var_2"
      ]
    },
    {
      "cell_type": "code",
      "source": [
        "not boolen_var_2"
      ],
      "metadata": {
        "colab": {
          "base_uri": "https://localhost:8080/"
        },
        "id": "6K_lvgS27w6J",
        "outputId": "21abc3e0-3e22-47a0-e007-4eb317d70d09"
      },
      "execution_count": null,
      "outputs": [
        {
          "output_type": "execute_result",
          "data": {
            "text/plain": [
              "True"
            ]
          },
          "metadata": {},
          "execution_count": 5
        }
      ]
    },
    {
      "cell_type": "code",
      "source": [
        "month = input(\"Какой сейчас месяц?\")\n",
        "year = int(input(\"Какой сейчас год?\"))\n",
        "if month == \"Январь\" or month == 'март' or month == 'май':\n",
        "  print(31)\n",
        "elif month == \"февраль\"  and (year  % 4 == 0 and year % 100 != 0 or year %400 == 0):\n",
        "    print(29)\n",
        "elif month == \"февраль\"  and (year % 4 != 0 and yaer % 100 == 0 or year % 400 !=0):\n",
        "    print(28)\n",
        "else:\n",
        "  print(30)\n",
        "\n",
        "\n",
        "\n",
        "  "
      ],
      "metadata": {
        "colab": {
          "base_uri": "https://localhost:8080/"
        },
        "id": "2XjfL1AB8NYp",
        "outputId": "33f59a1a-35d8-4cf8-85a1-18d7978311a6"
      },
      "execution_count": null,
      "outputs": [
        {
          "output_type": "stream",
          "name": "stdout",
          "text": [
            "Какой сейчас месяц?Апрель\n",
            "Какой сейчас год?2001\n",
            "30\n"
          ]
        }
      ]
    },
    {
      "cell_type": "code",
      "source": [
        "def line(x):\n",
        "  y=2+3*x\n",
        "  return y"
      ],
      "metadata": {
        "id": "S4BcziEYCF9o"
      },
      "execution_count": null,
      "outputs": []
    },
    {
      "cell_type": "code",
      "source": [
        "print('Введите икс')"
      ],
      "metadata": {
        "colab": {
          "base_uri": "https://localhost:8080/"
        },
        "id": "5KNB1uSvCcrP",
        "outputId": "6643d8d8-674b-4089-fa4e-d47058468b8c"
      },
      "execution_count": null,
      "outputs": [
        {
          "output_type": "stream",
          "name": "stdout",
          "text": [
            "Введите икс\n"
          ]
        }
      ]
    },
    {
      "cell_type": "code",
      "source": [
        "def line(x):\n",
        "  y=2+3*x\n",
        "  return y\n",
        "\n",
        "\n",
        "x = int(input('Введите икс \\n'))\n",
        "\n",
        "print(line(x))\n"
      ],
      "metadata": {
        "colab": {
          "base_uri": "https://localhost:8080/"
        },
        "id": "wKDSPsGsC8sW",
        "outputId": "2214be8c-49cd-4503-9c3b-f2f71386d89d"
      },
      "execution_count": null,
      "outputs": [
        {
          "output_type": "stream",
          "name": "stdout",
          "text": [
            "Введите икс \n",
            "5\n",
            "17\n"
          ]
        }
      ]
    },
    {
      "cell_type": "code",
      "source": [
        "def line(x):\n",
        "  y=2+3*x\n",
        "  global c \n",
        "  c = 3\n",
        "  return y\n",
        "\n",
        "\n",
        "x = int(input('Введите икс \\n'))\n",
        "print(c)\n"
      ],
      "metadata": {
        "id": "gCgcmD6uHas3"
      },
      "execution_count": null,
      "outputs": []
    }
  ]
}